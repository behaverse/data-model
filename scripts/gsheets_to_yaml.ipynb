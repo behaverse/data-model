{
 "cells": [
  {
   "cell_type": "markdown",
   "metadata": {
    "vscode": {
     "languageId": "plaintext"
    }
   },
   "source": [
    "This notebook fetches BDM Trial specs from the Google Sheet and then generates documentations in quarto markdown format.\n",
    "\n",
    "The generated markdown files are saved in the `assets/yml/tables/` folder.\n",
    "\n",
    "Install pandas, gspread, and PyYAML before running this notebook:\n",
    "\n",
    "```bash\n",
    "pip install pandas gspread PyYAML\n",
    "```\n"
   ]
  },
  {
   "cell_type": "code",
   "execution_count": 69,
   "metadata": {},
   "outputs": [],
   "source": [
    "# Imports and setup\n",
    "\n",
    "import os\n",
    "from pathlib import Path\n",
    "import pandas as pd\n",
    "import yaml"
   ]
  },
  {
   "cell_type": "code",
   "execution_count": 70,
   "metadata": {},
   "outputs": [],
   "source": [
    "# Parameters\n",
    "\n",
    "OUTPUT_DIR = Path('assets/auto-generated/')  # where to write the generated files\n",
    "TRIAL_SPEC_SHEET_ID = os.environ.get('TRIAL_SPEC_SHEET_ID', '')"
   ]
  },
  {
   "cell_type": "code",
   "execution_count": 71,
   "metadata": {},
   "outputs": [],
   "source": [
    "# Helper functions\n",
    "\n",
    "def camel_to_dash(camel_case_string):\n",
    "  \"\"\"Converts a CamelCase string to a dash-separated lower case string.\n",
    "\n",
    "  Args:\n",
    "    camel_case_string: The CamelCase string to convert.\n",
    "\n",
    "  Returns:\n",
    "    The dash-separated lower-case string.\n",
    "  \"\"\"\n",
    "  import re\n",
    "\n",
    "  if pd.isna(camel_case_string):\n",
    "    raise ValueError('camel_case_string cannot be None')\n",
    "\n",
    "  if camel_case_string.strip() == '':\n",
    "    return camel_case_string.strip()\n",
    "\n",
    "  # replace spaces with empty string, and prefix uppercase letters with a dash\n",
    "  s = re.sub('(?!^)([A-Z]+)', r'-\\1', camel_case_string.replace(' ', ''))\n",
    "  return s.lower()\n",
    "\n",
    "def get_sheet(sheet_id: str, table_name, backend: str='requests'):\n",
    "    \"\"\"Download a Google Sheets table as a pandas DataFrame.\"\"\"\n",
    "    url = ('https://docs.google.com/spreadsheets/d/'\n",
    "           '{sheet_id}/gviz/tq?tqx=out:csv&sheet={table_name}')\n",
    "    url = url.format(sheet_id=sheet_id, table_name=table_name)\n",
    "    if backend.lower() == 'requests':\n",
    "      import requests\n",
    "      from io import StringIO\n",
    "      content = requests.get(url).content\n",
    "      data = pd.read_csv(StringIO(content.decode('utf-8')))\n",
    "    else:\n",
    "      data = pd.read_csv(url)\n",
    "    return data\n",
    "\n",
    "\n",
    "def convert_sheet_to_yaml(table_info: pd.Series, root_dir) -> Path:\n",
    "    \"\"\"Write a pandas DataFrame to a CSV file.\"\"\"\n",
    "\n",
    "    assert table_info['table_name'] is not None, 'table_name is required'\n",
    "\n",
    "    file_name = camel_to_dash(table_info['table_name']) + '.yml'\n",
    "    output_path = root_dir / file_name\n",
    "\n",
    "    # append the category to the file name if it exists\n",
    "    if (pd.notna(table_info['category']) and len(table_info['category']) > 0):\n",
    "      category = camel_to_dash(table_info['category'])\n",
    "      output_path = root_dir / category / file_name\n",
    "\n",
    "    output_path.parent.mkdir(parents=True, exist_ok=True)\n",
    "\n",
    "    df = get_sheet(TRIAL_SPEC_SHEET_ID, table_info['table_name'])\n",
    "\n",
    "    with open(output_path, 'w') as f:\n",
    "      data = df.groupby('category', sort=False).apply(\n",
    "        lambda x: x.to_dict(orient='records'), include_groups=False).to_dict()\n",
    "      data = [{'category': c, 'variables': v} for  c,v in data.items()]\n",
    "      yaml.dump(\n",
    "        data,\n",
    "        f, default_flow_style=False, indent=2, sort_keys=False)\n",
    "\n",
    "    return output_path\n"
   ]
  },
  {
   "cell_type": "code",
   "execution_count": 72,
   "metadata": {},
   "outputs": [
    {
     "data": {
      "text/plain": [
       "0           assets/auto-generated/trial/instrument.yml\n",
       "1                assets/auto-generated/trial/trial.yml\n",
       "2             assets/auto-generated/trial/stimulus.yml\n",
       "3    assets/auto-generated/trial/stimulus-component...\n",
       "4                assets/auto-generated/trial/click.yml\n",
       "5               assets/auto-generated/trial/option.yml\n",
       "6     assets/auto-generated/trial/option-component.yml\n",
       "7                 assets/auto-generated/vocabulary.yml\n",
       "dtype: object"
      ]
     },
     "execution_count": 72,
     "metadata": {},
     "output_type": "execute_result"
    }
   ],
   "source": [
    "# Run the pipeline\n",
    "\n",
    "tables = get_sheet(TRIAL_SPEC_SHEET_ID, 'Tables')\n",
    "tables['category'] = tables['category'].str.split('; ')\n",
    "tables = tables.explode('category').reset_index(drop=True)\n",
    "\n",
    "tables.apply(convert_sheet_to_yaml, axis=1, root_dir=OUTPUT_DIR) # type: ignore"
   ]
  }
 ],
 "metadata": {
  "kernelspec": {
   "display_name": "playground",
   "language": "python",
   "name": "python3"
  },
  "language_info": {
   "codemirror_mode": {
    "name": "ipython",
    "version": 3
   },
   "file_extension": ".py",
   "mimetype": "text/x-python",
   "name": "python",
   "nbconvert_exporter": "python",
   "pygments_lexer": "ipython3",
   "version": "3.13.0"
  }
 },
 "nbformat": 4,
 "nbformat_minor": 2
}
