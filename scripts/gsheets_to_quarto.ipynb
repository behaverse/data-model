{
 "cells": [
  {
   "cell_type": "markdown",
   "metadata": {
    "vscode": {
     "languageId": "plaintext"
    }
   },
   "source": [
    "This notebook fetches BDM Trial specs from the Google Sheet and then generates documentations in quarto markdown format.\n",
    "\n",
    "The generated markdown files are saved in the `assets/auto-generated/yml/` folder.\n",
    "\n",
    "Install pandas, gspread, and PyYAML before running this notebook:\n",
    "\n",
    "```bash\n",
    "pip install pandas gspread PyYAML\n",
    "```\n"
   ]
  },
  {
   "cell_type": "code",
   "execution_count": 19,
   "metadata": {},
   "outputs": [],
   "source": [
    "# Imports and setup\n",
    "\n",
    "import os\n",
    "from pathlib import Path\n",
    "import pandas as pd\n",
    "import yaml"
   ]
  },
  {
   "cell_type": "code",
   "execution_count": 20,
   "metadata": {},
   "outputs": [],
   "source": [
    "# Parameters\n",
    "\n",
    "OUTPUT_DIR = Path('assets/auto-generated/')  # where to write the generated files\n",
    "TRIAL_SPEC_SHEET_ID = os.environ.get('TRIAL_SPEC_SHEET_ID', '')"
   ]
  },
  {
   "cell_type": "code",
   "execution_count": 21,
   "metadata": {},
   "outputs": [],
   "source": [
    "# Helper functions\n",
    "\n",
    "def camel_to_dash(camel_case_string):\n",
    "  \"\"\"Converts a CamelCase string to a dash-separated lower case string.\n",
    "\n",
    "  Args:\n",
    "    camel_case_string: The CamelCase string to convert.\n",
    "\n",
    "  Returns:\n",
    "    The dash-separated lower-case string.\n",
    "  \"\"\"\n",
    "  import re\n",
    "\n",
    "  if pd.isna(camel_case_string):\n",
    "    raise ValueError('camel_case_string cannot be None')\n",
    "\n",
    "  if camel_case_string.strip() == '':\n",
    "    return camel_case_string.strip()\n",
    "\n",
    "  # replace spaces with empty string, and prefix uppercase letters with a dash\n",
    "  s = re.sub('(?!^)([A-Z]+)', r'-\\1', camel_case_string.replace(' ', ''))\n",
    "  return s.lower()\n",
    "\n",
    "def get_sheet(sheet_id: str, sheet_name, backend: str='requests'):\n",
    "    \"\"\"Download a Google Sheets table as a pandas DataFrame.\"\"\"\n",
    "    url = ('https://docs.google.com/spreadsheets/d/'\n",
    "           '{sheet_id}/gviz/tq?tqx=out:csv&sheet={sheet_name}')\n",
    "    url = url.format(sheet_id=sheet_id, sheet_name=sheet_name)\n",
    "    if backend.lower() == 'requests':\n",
    "      import requests\n",
    "      from io import StringIO\n",
    "      content = requests.get(url).content\n",
    "      data = pd.read_csv(StringIO(content.decode('utf-8')))\n",
    "    else:\n",
    "      data = pd.read_csv(url)\n",
    "    return data\n",
    "\n",
    "def convert_sheet_to_yaml(table_info: pd.Series, root_dir) -> Path:\n",
    "    \"\"\"Write a pandas DataFrame to a CSV file.\"\"\"\n",
    "\n",
    "    assert table_info['name'] is not None, 'table name is required'\n",
    "\n",
    "    file_name = camel_to_dash(table_info['name']) + '.yml'\n",
    "    output_path = root_dir / file_name\n",
    "\n",
    "    # append the category to the file name if it exists\n",
    "    if (pd.notna(table_info['category']) and len(table_info['category']) > 0):\n",
    "      category = camel_to_dash(table_info['category'])\n",
    "      output_path = root_dir / category / file_name\n",
    "\n",
    "    output_path.parent.mkdir(parents=True, exist_ok=True)\n",
    "\n",
    "    df = get_sheet(TRIAL_SPEC_SHEET_ID, table_info['name'])\n",
    "\n",
    "    with open(output_path, 'w') as f:\n",
    "\n",
    "      # to match quarto listing categories\n",
    "      if 'category' in df.columns:\n",
    "        df.rename(columns={'category': 'categories'}, inplace=True)\n",
    "        df['categories'] = df['categories'].apply(\n",
    "          lambda cats: cats.split(';') if pd.notna(cats) else [])\n",
    "\n",
    "      df['description'] = df['description'].fillna('')\n",
    "      df['notes'] = df['notes'].apply(lambda x:\n",
    "        x.split('\\n\\n') if pd.notna(x) else None)\n",
    "      items = df.to_dict(orient='records')\n",
    "\n",
    "      # recursively drop nan values from the items\n",
    "      for item in items:\n",
    "        keys_to_delete = [key for key in item.keys()\n",
    "                          if not isinstance(item[key], list)\n",
    "                             and pd.isna(item[key])]\n",
    "        for key in keys_to_delete:\n",
    "          del item[key]\n",
    "\n",
    "      yaml.safe_dump(\n",
    "        items,\n",
    "        f, indent=2, sort_keys=False)\n",
    "\n",
    "    return output_path"
   ]
  },
  {
   "cell_type": "code",
   "execution_count": 22,
   "metadata": {},
   "outputs": [
    {
     "data": {
      "text/plain": [
       "0                assets/auto-generated/trial/trial.yml\n",
       "1             assets/auto-generated/trial/stimulus.yml\n",
       "2               assets/auto-generated/trial/option.yml\n",
       "3                assets/auto-generated/trial/click.yml\n",
       "4    assets/auto-generated/trial/stimulus-component...\n",
       "5     assets/auto-generated/trial/option-component.yml\n",
       "6           assets/auto-generated/trial/instrument.yml\n",
       "7                   assets/auto-generated/glossary.yml\n",
       "dtype: object"
      ]
     },
     "execution_count": 22,
     "metadata": {},
     "output_type": "execute_result"
    }
   ],
   "source": [
    "# Run the pipeline\n",
    "\n",
    "tables = get_sheet(TRIAL_SPEC_SHEET_ID, 'Tables')\n",
    "tables.reset_index(drop=False, inplace=True)\n",
    "yaml.safe_dump(tables.to_dict(orient='records'),\n",
    "               open(OUTPUT_DIR / 'trial-tables.yml', 'w'), indent=2, sort_keys=False)\n",
    "tables = tables.query('publish == True')\n",
    "tables['category'] = tables['category'].str.split('; ')\n",
    "tables = tables.explode('category').reset_index(drop=True)\n",
    "\n",
    "tables.apply(convert_sheet_to_yaml, axis=1, root_dir=OUTPUT_DIR) # type: ignore"
   ]
  },
  {
   "cell_type": "markdown",
   "metadata": {},
   "source": [
    "## YAML to QMD"
   ]
  },
  {
   "cell_type": "code",
   "execution_count": 23,
   "metadata": {},
   "outputs": [],
   "source": [
    "qmd_template = \\\n",
    "\"\"\"---\n",
    "title: '<i class=\"bi bi-grid-3x3\"></i> {title}'\n",
    "abstract: \"{abstract}\"\n",
    "order: {order}\n",
    "toc: false\n",
    "listing: \n",
    "  template: {ejs_template_path}\n",
    "  field-required: [variable_name, categories, description]\n",
    "  filter-ui: true\n",
    "  sort-ui: false\n",
    "  categories: numbered\n",
    "  page-size: 10000\n",
    "  contents:\n",
    "    - \"{yml_path}\"\n",
    "---\n",
    "\n",
    "\"\"\""
   ]
  },
  {
   "cell_type": "code",
   "execution_count": 24,
   "metadata": {},
   "outputs": [
    {
     "name": "stdout",
     "output_type": "stream",
     "text": [
      "Done!\n"
     ]
    }
   ],
   "source": [
    "INPUT_DIR = Path('assets/auto-generated/trial/')\n",
    "OUTPUT_DIR = Path('spec/trials/')\n",
    "\n",
    "\n",
    "tables_df = pd.DataFrame(\n",
    "    yaml.safe_load(open('assets/auto-generated/trial-tables.yml'))\n",
    ")\n",
    "tables_df.set_index('name', inplace=True)\n",
    "\n",
    "EJS_TEMPLATE = Path('assets/templates/trial-table.ejs')\n",
    "\n",
    "for yml_file in Path(INPUT_DIR).rglob('*.yml'):\n",
    "    table_name = yml_file.stem.title().replace('-', '')\n",
    "    table_title = tables_df.loc[table_name, 'label']\n",
    "    table_abstract = tables_df.loc[table_name, 'description']\n",
    "\n",
    "    qmd_content = qmd_template.format(\n",
    "        title=table_title,\n",
    "        abstract=table_abstract,\n",
    "        order=tables_df.loc[table_name, 'index'],\n",
    "        ejs_template_path=EJS_TEMPLATE.relative_to(OUTPUT_DIR, walk_up=True),\n",
    "        yml_path=yml_file.relative_to(OUTPUT_DIR, walk_up=True)\n",
    "    )\n",
    "\n",
    "    qmd_file = OUTPUT_DIR / yml_file.with_suffix('.qmd').name\n",
    "    qmd_file.parent.mkdir(parents=True, exist_ok=True)\n",
    "    with open(qmd_file, 'w') as f:\n",
    "        f.write(qmd_content)\n",
    "\n",
    "# Write a warning file\n",
    "with open(OUTPUT_DIR / '_WARNING_', 'w') as f:\n",
    "    f.write('WARNING: THIS IS AN AUTO-GENERATED DIRECTORY.'\n",
    "            'DO NOT MANUALLY EDIT ITS CONTENT.\\n')\n",
    "    \n",
    "print('Done!')"
   ]
  }
 ],
 "metadata": {
  "kernelspec": {
   "display_name": "playground",
   "language": "python",
   "name": "python3"
  },
  "language_info": {
   "codemirror_mode": {
    "name": "ipython",
    "version": 3
   },
   "file_extension": ".py",
   "mimetype": "text/x-python",
   "name": "python",
   "nbconvert_exporter": "python",
   "pygments_lexer": "ipython3",
   "version": "3.13.0"
  }
 },
 "nbformat": 4,
 "nbformat_minor": 2
}
