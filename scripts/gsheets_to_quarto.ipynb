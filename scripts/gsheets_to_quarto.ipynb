{
 "cells": [
  {
   "cell_type": "markdown",
   "metadata": {
    "vscode": {
     "languageId": "plaintext"
    }
   },
   "source": [
    "This notebook fetches BDM Trial specs from the Google Sheet and then generates documentations in quarto markdown format.\n",
    "\n",
    "The generated markdown files are saved in the `assets/auto-generated/yml/` folder.\n",
    "\n",
    "Install pandas, gspread, and PyYAML before running this notebook:\n",
    "\n",
    "```bash\n",
    "pip install pandas gspread PyYAML\n",
    "```\n",
    "\n",
    "You also need to set `TRIAL_SPEC_SHEET_ID` in the environment variable to the Google Sheet ID of the BDM Trial specs."
   ]
  },
  {
   "cell_type": "code",
   "execution_count": 99,
   "metadata": {},
   "outputs": [],
   "source": [
    "# Imports and setup\n",
    "\n",
    "import os\n",
    "from pathlib import Path\n",
    "import pandas as pd\n",
    "import yaml"
   ]
  },
  {
   "cell_type": "code",
   "execution_count": 100,
   "metadata": {},
   "outputs": [],
   "source": [
    "# Parameters\n",
    "\n",
    "OUTPUT_DIR = Path('assets/auto-generated/')  # where to write the generated files\n",
    "TRIAL_SPEC_SHEET_ID = os.environ.get('TRIAL_SPEC_SHEET_ID', '')"
   ]
  },
  {
   "cell_type": "code",
   "execution_count": 101,
   "metadata": {},
   "outputs": [
    {
     "name": "stdout",
     "output_type": "stream",
     "text": [
      "The output directory is manually edited.Skipping auto-generation.\n"
     ]
    }
   ],
   "source": [
    "if not (OUTPUT_DIR / '_WARNING_').exists():\n",
    "    print('The output directory is manually edited.'\n",
    "          'Skipping auto-generation.')\n",
    "    exit(1)"
   ]
  },
  {
   "cell_type": "code",
   "execution_count": 102,
   "metadata": {},
   "outputs": [],
   "source": [
    "# Helper functions\n",
    "\n",
    "def camel_to_dash(camel_case_string):\n",
    "  \"\"\"Converts a CamelCase string to a dash-separated lower case string.\n",
    "\n",
    "  Args:\n",
    "    camel_case_string: The CamelCase string to convert.\n",
    "\n",
    "  Returns:\n",
    "    The dash-separated lower-case string.\n",
    "  \"\"\"\n",
    "  import re\n",
    "\n",
    "  if pd.isna(camel_case_string):\n",
    "    raise ValueError('camel_case_string cannot be None')\n",
    "\n",
    "  if camel_case_string.strip() == '':\n",
    "    return camel_case_string.strip()\n",
    "\n",
    "  # replace spaces with empty string, and prefix uppercase letters with a dash\n",
    "  s = re.sub('(?!^)([A-Z]+)', r'-\\1', camel_case_string.replace(' ', ''))\n",
    "  return s.lower()\n",
    "\n",
    "def get_sheet(sheet_id: str, sheet_name, backend: str='requests'):\n",
    "    \"\"\"Download a Google Sheets table as a pandas DataFrame.\"\"\"\n",
    "    url = ('https://docs.google.com/spreadsheets/d/'\n",
    "           '{sheet_id}/gviz/tq?tqx=out:csv&sheet={sheet_name}')\n",
    "    url = url.format(sheet_id=sheet_id, sheet_name=sheet_name)\n",
    "    if backend.lower() == 'requests':\n",
    "      import requests\n",
    "      from io import StringIO\n",
    "      content = requests.get(url).content\n",
    "      data = pd.read_csv(StringIO(content.decode('utf-8')))\n",
    "    else:\n",
    "      data = pd.read_csv(url)\n",
    "    return data\n",
    "\n",
    "def convert_sheet_to_yaml(table_info: pd.Series, root_dir) -> Path:\n",
    "    \"\"\"Write a pandas DataFrame to a CSV file.\"\"\"\n",
    "\n",
    "    assert table_info['name'] is not None, 'table name is required'\n",
    "\n",
    "    file_name = camel_to_dash(table_info['name']) + '.yml'\n",
    "    output_path = root_dir / file_name\n",
    "\n",
    "    # append the category to the file name if it exists\n",
    "    if (pd.notna(table_info['category']) and len(table_info['category']) > 0):\n",
    "      category = camel_to_dash(table_info['category'])\n",
    "      output_path = root_dir / category / file_name\n",
    "\n",
    "    output_path.parent.mkdir(parents=True, exist_ok=True)\n",
    "\n",
    "    df = get_sheet(TRIAL_SPEC_SHEET_ID, table_info['name'])\n",
    "\n",
    "    with open(output_path, 'w') as f:\n",
    "\n",
    "      # to match quarto listing categories\n",
    "      if 'category' in df.columns:\n",
    "        df.rename(columns={'category': 'categories'}, inplace=True)\n",
    "        df['categories'] = df['categories'].apply(\n",
    "          lambda cats: cats.split(';') if pd.notna(cats) else [])\n",
    "\n",
    "      df['description'] = df['description'].fillna('')\n",
    "      df['notes'] = df['notes'].apply(lambda x:\n",
    "        x.split('\\n\\n') if pd.notna(x) else None)\n",
    "      items = df.to_dict(orient='records')\n",
    "\n",
    "      # recursively drop nan values from the items\n",
    "      for item in items:\n",
    "        keys_to_delete = [key for key in item.keys()\n",
    "                          if not isinstance(item[key], list)\n",
    "                             and pd.isna(item[key])]\n",
    "        for key in keys_to_delete:\n",
    "          del item[key]\n",
    "\n",
    "      yaml.safe_dump(\n",
    "        items,\n",
    "        f, indent=2, sort_keys=False)\n",
    "\n",
    "    return output_path"
   ]
  },
  {
   "cell_type": "code",
   "execution_count": 103,
   "metadata": {},
   "outputs": [
    {
     "ename": "Exception",
     "evalue": "The output directory has been manually edited. Skipping auto-generation.",
     "output_type": "error",
     "traceback": [
      "\u001b[0;31m---------------------------------------------------------------------------\u001b[0m",
      "\u001b[0;31mException\u001b[0m                                 Traceback (most recent call last)",
      "Cell \u001b[0;32mIn[103], line 4\u001b[0m\n\u001b[1;32m      1\u001b[0m \u001b[38;5;66;03m# running gsheet2yaml pipeline\u001b[39;00m\n\u001b[1;32m      3\u001b[0m \u001b[38;5;28;01mif\u001b[39;00m OUTPUT_DIR\u001b[38;5;241m.\u001b[39mexists() \u001b[38;5;129;01mand\u001b[39;00m \u001b[38;5;129;01mnot\u001b[39;00m (OUTPUT_DIR \u001b[38;5;241m/\u001b[39m \u001b[38;5;124m'\u001b[39m\u001b[38;5;124m.lock\u001b[39m\u001b[38;5;124m'\u001b[39m)\u001b[38;5;241m.\u001b[39mexists():\n\u001b[0;32m----> 4\u001b[0m     \u001b[38;5;28;01mraise\u001b[39;00m \u001b[38;5;167;01mException\u001b[39;00m(\n\u001b[1;32m      5\u001b[0m         \u001b[38;5;124m'\u001b[39m\u001b[38;5;124mThe output directory has been manually edited. \u001b[39m\u001b[38;5;124m'\u001b[39m\n\u001b[1;32m      6\u001b[0m         \u001b[38;5;124m'\u001b[39m\u001b[38;5;124mSkipping auto-generation.\u001b[39m\u001b[38;5;124m'\u001b[39m)\n\u001b[1;32m      8\u001b[0m OUTPUT_DIR\u001b[38;5;241m.\u001b[39mmkdir(parents\u001b[38;5;241m=\u001b[39m\u001b[38;5;28;01mTrue\u001b[39;00m, exist_ok\u001b[38;5;241m=\u001b[39m\u001b[38;5;28;01mTrue\u001b[39;00m)\n\u001b[1;32m     10\u001b[0m tables \u001b[38;5;241m=\u001b[39m get_sheet(TRIAL_SPEC_SHEET_ID, \u001b[38;5;124m'\u001b[39m\u001b[38;5;124mTables\u001b[39m\u001b[38;5;124m'\u001b[39m)\n",
      "\u001b[0;31mException\u001b[0m: The output directory has been manually edited. Skipping auto-generation."
     ]
    }
   ],
   "source": [
    "# running gsheet2yaml pipeline\n",
    "\n",
    "if OUTPUT_DIR.exists() and not (OUTPUT_DIR / '.lock').exists():\n",
    "    raise Exception(\n",
    "        'The output directory has been manually edited. '\n",
    "        'Skipping auto-generation.')\n",
    "\n",
    "OUTPUT_DIR.mkdir(parents=True, exist_ok=True)\n",
    "\n",
    "tables = get_sheet(TRIAL_SPEC_SHEET_ID, 'Tables')\n",
    "tables.reset_index(drop=False, inplace=True)\n",
    "yaml.safe_dump(tables.to_dict(orient='records'),\n",
    "               open(OUTPUT_DIR / 'trial-tables.yml', 'w'), indent=2, sort_keys=False)\n",
    "tables = tables.query('publish == True')\n",
    "tables['category'] = tables['category'].str.split('; ')\n",
    "tables = tables.explode('category').reset_index(drop=True)\n",
    "\n",
    "with open(OUTPUT_DIR / '.lock', 'w') as f:\n",
    "    f.write('WARNING: THIS IS AN AUTO-GENERATED DIRECTORY.\\n'\n",
    "            'EITHER DO NOT MANUALLY EDIT ITS CONTENT OR\\n'\n",
    "            'REMOVE THIS FILE TO DISABLE AUTO-GENERATION.')\n",
    "\n",
    "tables.apply(convert_sheet_to_yaml, axis=1, root_dir=OUTPUT_DIR) # type: ignore"
   ]
  },
  {
   "cell_type": "markdown",
   "metadata": {},
   "source": [
    "## YAML to QMD"
   ]
  },
  {
   "cell_type": "code",
   "execution_count": 104,
   "metadata": {},
   "outputs": [],
   "source": [
    "qmd_template = \\\n",
    "\"\"\"---\n",
    "title: '<i class=\"bi bi-grid-3x3\"></i> {title}'\n",
    "subtitle: \"{subtitle}\"\n",
    "order: {order}\n",
    "toc: false\n",
    "listing: \n",
    "  template: {ejs_template_path}\n",
    "  field-required: [variable_name, categories, description]\n",
    "  filter-ui: true\n",
    "  sort: false\n",
    "  sort-ui: false\n",
    "  categories: numbered\n",
    "  page-size: 10000\n",
    "  contents:\n",
    "    - \"{yml_path}\"\n",
    "---\n",
    "\n",
    "\"\"\""
   ]
  },
  {
   "cell_type": "code",
   "execution_count": 106,
   "metadata": {},
   "outputs": [
    {
     "ename": "Exception",
     "evalue": "The output directory has been manually edited.Skipping auto-generation.",
     "output_type": "error",
     "traceback": [
      "\u001b[0;31m---------------------------------------------------------------------------\u001b[0m",
      "\u001b[0;31mException\u001b[0m                                 Traceback (most recent call last)",
      "Cell \u001b[0;32mIn[106], line 5\u001b[0m\n\u001b[1;32m      2\u001b[0m QMD_OUTPUT_DIR \u001b[38;5;241m=\u001b[39m Path(\u001b[38;5;124m'\u001b[39m\u001b[38;5;124mreference/trials/\u001b[39m\u001b[38;5;124m'\u001b[39m)\n\u001b[1;32m      4\u001b[0m \u001b[38;5;28;01mif\u001b[39;00m QMD_OUTPUT_DIR\u001b[38;5;241m.\u001b[39mexists() \u001b[38;5;129;01mand\u001b[39;00m \u001b[38;5;129;01mnot\u001b[39;00m (QMD_OUTPUT_DIR \u001b[38;5;241m/\u001b[39m \u001b[38;5;124m'\u001b[39m\u001b[38;5;124m.lock\u001b[39m\u001b[38;5;124m'\u001b[39m)\u001b[38;5;241m.\u001b[39mexists():\n\u001b[0;32m----> 5\u001b[0m     \u001b[38;5;28;01mraise\u001b[39;00m \u001b[38;5;167;01mException\u001b[39;00m(\n\u001b[1;32m      6\u001b[0m         \u001b[38;5;124m'\u001b[39m\u001b[38;5;124mThe output directory has been manually edited.\u001b[39m\u001b[38;5;124m'\u001b[39m\n\u001b[1;32m      7\u001b[0m         \u001b[38;5;124m'\u001b[39m\u001b[38;5;124mSkipping auto-generation.\u001b[39m\u001b[38;5;124m'\u001b[39m)\n\u001b[1;32m      9\u001b[0m tables_df \u001b[38;5;241m=\u001b[39m pd\u001b[38;5;241m.\u001b[39mDataFrame(\n\u001b[1;32m     10\u001b[0m     yaml\u001b[38;5;241m.\u001b[39msafe_load(\u001b[38;5;28mopen\u001b[39m(\u001b[38;5;124m'\u001b[39m\u001b[38;5;124massets/auto-generated/trial-tables.yml\u001b[39m\u001b[38;5;124m'\u001b[39m))\n\u001b[1;32m     11\u001b[0m )\n\u001b[1;32m     12\u001b[0m tables_df\u001b[38;5;241m.\u001b[39mset_index(\u001b[38;5;124m'\u001b[39m\u001b[38;5;124mname\u001b[39m\u001b[38;5;124m'\u001b[39m, inplace\u001b[38;5;241m=\u001b[39m\u001b[38;5;28;01mTrue\u001b[39;00m)\n",
      "\u001b[0;31mException\u001b[0m: The output directory has been manually edited.Skipping auto-generation."
     ]
    }
   ],
   "source": [
    "INPUT_DIR = Path('assets/auto-generated/trials/')\n",
    "QMD_OUTPUT_DIR = Path('reference/trials/')\n",
    "\n",
    "if QMD_OUTPUT_DIR.exists() and not (QMD_OUTPUT_DIR / '.lock').exists():\n",
    "    raise Exception(\n",
    "        'The output directory has been manually edited.'\n",
    "        'Skipping auto-generation.')\n",
    "\n",
    "tables_df = pd.DataFrame(\n",
    "    yaml.safe_load(open('assets/auto-generated/trial-tables.yml'))\n",
    ")\n",
    "tables_df.set_index('name', inplace=True)\n",
    "\n",
    "EJS_TEMPLATE = Path('assets/templates/trial-table.ejs')\n",
    "\n",
    "for yml_file in Path(INPUT_DIR).rglob('*.yml'):\n",
    "    table_name = yml_file.stem.title().replace('-', '')\n",
    "    table_title = tables_df.loc[table_name, 'label']\n",
    "    table_description = tables_df.loc[table_name, 'description']\n",
    "\n",
    "    # handle @Table annotations in the description\n",
    "    table_description = table_description.replace(\n",
    "        '@', '<i class=\"bi bi-grid-3x3\"></i> ')\n",
    "\n",
    "    qmd_content = qmd_template.format(\n",
    "        title=table_title,\n",
    "        subtitle=table_description,\n",
    "        order=tables_df.loc[table_name, 'index'],\n",
    "        ejs_template_path=EJS_TEMPLATE.relative_to(QMD_OUTPUT_DIR, walk_up=True),\n",
    "        yml_path=yml_file.relative_to(QMD_OUTPUT_DIR, walk_up=True)\n",
    "    )\n",
    "\n",
    "    qmd_file = QMD_OUTPUT_DIR / yml_file.with_suffix('.qmd').name\n",
    "    qmd_file.parent.mkdir(parents=True, exist_ok=True)\n",
    "    with open(qmd_file, 'w') as f:\n",
    "        f.write(qmd_content)\n",
    "\n",
    "# Write a warning file\n",
    "with open(QMD_OUTPUT_DIR / '.lock', 'w') as f:\n",
    "    f.write('WARNING: THIS IS AN AUTO-GENERATED DIRECTORY.\\n'\n",
    "            'EITHER DO NOT MANUALLY EDIT ITS CONTENT OR\\n'\n",
    "            'REMOVE THIS FILE TO DISABLE AUTO-GENERATION.')\n",
    "\n",
    "print('Done!')"
   ]
  }
 ],
 "metadata": {
  "kernelspec": {
   "display_name": "playground",
   "language": "python",
   "name": "python3"
  },
  "language_info": {
   "codemirror_mode": {
    "name": "ipython",
    "version": 3
   },
   "file_extension": ".py",
   "mimetype": "text/x-python",
   "name": "python",
   "nbconvert_exporter": "python",
   "pygments_lexer": "ipython3",
   "version": "3.13.0"
  }
 },
 "nbformat": 4,
 "nbformat_minor": 2
}
