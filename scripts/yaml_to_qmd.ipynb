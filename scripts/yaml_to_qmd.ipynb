{
 "cells": [
  {
   "cell_type": "code",
   "execution_count": null,
   "metadata": {},
   "outputs": [
    {
     "name": "stdout",
     "output_type": "stream",
     "text": [
      "Conversion complete. The markdown file is saved as 'vocabulary.qmd'.\n"
     ]
    }
   ],
   "source": [
    "import yaml\n",
    "\n",
    "# Load the YAML file\n",
    "with open('assets/yml/vocabulary.yml', 'r') as file:\n",
    "    vocab = yaml.safe_load(file)\n",
    "\n",
    "# Convert to Quarto markdown\n",
    "qmd_content = \"# Vocabulary\\n\\n\"\n",
    "for key, value in vocab.items():\n",
    "    qmd_content += f\"## {key}\\n\\n\"\n",
    "    qmd_content += f\"{value}\\n\\n\"\n",
    "\n",
    "# Save the markdown content to a file\n",
    "with open('vocabulary.qmd', 'w') as file:\n",
    "    file.write(qmd_content)\n",
    "\n",
    "print(\"Conversion complete. The markdown file is saved as 'vocabulary.qmd'.\")"
   ]
  }
 ],
 "metadata": {
  "kernelspec": {
   "display_name": "playground",
   "language": "python",
   "name": "python3"
  },
  "language_info": {
   "codemirror_mode": {
    "name": "ipython",
    "version": 3
   },
   "file_extension": ".py",
   "mimetype": "text/x-python",
   "name": "python",
   "nbconvert_exporter": "python",
   "pygments_lexer": "ipython3",
   "version": "3.13.0"
  }
 },
 "nbformat": 4,
 "nbformat_minor": 2
}
