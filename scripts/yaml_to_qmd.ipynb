{
 "cells": [
  {
   "cell_type": "code",
   "execution_count": 1,
   "metadata": {},
   "outputs": [],
   "source": [
    "qmd_template = \\\n",
    "\"\"\"---\n",
    "title: '<i class=\"bi bi-grid-3x3\"></i> {title}'\n",
    "abstract: \"{abstract}\"\n",
    "order: {order}\n",
    "toc: false\n",
    "listing: \n",
    "  template: {ejs_template_path}\n",
    "  field-required: [variable_name, categories, description]\n",
    "  filter-ui: true\n",
    "  sort-ui: false\n",
    "  categories: numbered\n",
    "  page-size: 10000\n",
    "  contents:\n",
    "    - \"{yml_path}\"\n",
    "---\n",
    "\n",
    "\"\"\""
   ]
  },
  {
   "cell_type": "code",
   "execution_count": 2,
   "metadata": {},
   "outputs": [],
   "source": [
    "from pathlib import Path\n",
    "import pandas as pd\n",
    "import yaml\n",
    "\n",
    "INPUT_DIR = Path('assets/auto-generated/trial/')\n",
    "OUTPUT_DIR = Path('spec/trials/')\n",
    "\n",
    "\n",
    "tables_df = pd.DataFrame(\n",
    "    yaml.safe_load(open('assets/auto-generated/trial-tables.yml'))\n",
    ")\n",
    "tables_df.set_index('name', inplace=True)\n",
    "\n",
    "EJS_TEMPLATE = Path('assets/templates/trial-table.ejs')\n",
    "\n",
    "for yml_file in Path(INPUT_DIR).rglob('*.yml'):\n",
    "    table_name = yml_file.stem.title().replace('-', '')\n",
    "    table_title = tables_df.loc[table_name, 'label']\n",
    "    table_abstract = tables_df.loc[table_name, 'description']\n",
    "\n",
    "    qmd_content = qmd_template.format(\n",
    "        title=table_title,\n",
    "        abstract=table_abstract,\n",
    "        order=tables_df.loc[table_name, 'index'],\n",
    "        ejs_template_path=EJS_TEMPLATE.relative_to(OUTPUT_DIR, walk_up=True),\n",
    "        yml_path=yml_file.relative_to(OUTPUT_DIR, walk_up=True)\n",
    "    )\n",
    "\n",
    "    qmd_file = OUTPUT_DIR / yml_file.with_suffix('.qmd').name\n",
    "    qmd_file.parent.mkdir(parents=True, exist_ok=True)\n",
    "    with open(qmd_file, 'w') as f:\n",
    "        f.write(qmd_content)\n",
    "\n",
    "# Write a warning file\n",
    "with open(OUTPUT_DIR / '_WARNING_', 'w') as f:\n",
    "    f.write('WARNING: THIS IS AN AUTO-GENERATED DIRECTORY.'\n",
    "            'DO NOT MANUALLY EDIT ITS CONTENT.\\n')"
   ]
  }
 ],
 "metadata": {
  "kernelspec": {
   "display_name": "playground",
   "language": "python",
   "name": "python3"
  },
  "language_info": {
   "codemirror_mode": {
    "name": "ipython",
    "version": 3
   },
   "file_extension": ".py",
   "mimetype": "text/x-python",
   "name": "python",
   "nbconvert_exporter": "python",
   "pygments_lexer": "ipython3",
   "version": "3.13.0"
  }
 },
 "nbformat": 4,
 "nbformat_minor": 2
}
