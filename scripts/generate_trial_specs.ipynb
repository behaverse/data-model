{
 "cells": [
  {
   "cell_type": "markdown",
   "metadata": {
    "vscode": {
     "languageId": "plaintext"
    }
   },
   "source": [
    "This notebook fetches BDM Trial specs from the Google Sheet and then generates documentations in quarto markdown format.\n",
    "\n",
    "The generated markdown files are saved in the `spec/auto-generated` folder.\n",
    "\n",
    "Install pandas, gspread, and tabulate before running this notebook."
   ]
  },
  {
   "cell_type": "code",
   "execution_count": 1,
   "metadata": {},
   "outputs": [],
   "source": [
    "# Setup\n",
    "import pandas as pd\n",
    "from pathlib import Path\n",
    "\n",
    "\n",
    "# Constants\n",
    "OUTPUT_DIR = Path('spec/auto-generated/')  # where to write the generated files\n",
    "TRIAL_SPEC_SHEET_ID = '1yF34tvpxHtyNfVvXMdUXIVyS1UkDW7Bc6IaonI-I2vQ'\n",
    "\n",
    "# Helpers\n",
    "\n",
    "def get_sheet(sheet_id: str, table_name: str):\n",
    "    \"\"\"Download a Google Sheets table as a pandas DataFrame.\"\"\"\n",
    "    url = ('https://docs.google.com/spreadsheets/d/'\n",
    "           '{sheet_id}/gviz/tq?tqx=out:csv&sheet={table_name}')\n",
    "    url = url.format(sheet_id=sheet_id, table_name=table_name)\n",
    "    data = pd.read_csv(url)\n",
    "    return data\n",
    "\n",
    "\n",
    "def sheet_to_qmd(table_info: pd.Series, root_dir):\n",
    "    \"\"\"Write a pandas DataFrame to a CSV file.\"\"\"\n",
    "    category = table_info['category'].replace(' ', '_').lower()\n",
    "    file_name = table_info['table_name'].replace(' ', '_') + '.qmd'\n",
    "    output_path = root_dir / category / file_name\n",
    "    output_path.parent.mkdir(parents=True, exist_ok=True)\n",
    "\n",
    "    df = get_sheet(TRIAL_SPEC_SHEET_ID, table_info['table_name'])\n",
    "    df.to_markdown(output_path, index=False)\n",
    "\n",
    "    return output_path\n"
   ]
  },
  {
   "cell_type": "code",
   "execution_count": 4,
   "metadata": {},
   "outputs": [
    {
     "name": "stdout",
     "output_type": "stream",
     "text": [
      "                                         category         table_name  \\\n",
      "0                 Cognitive Tests; Questionnaires         Instrument   \n",
      "1   Cognitive Tests; Questionnaires; Instructions              Trial   \n",
      "2   Cognitive Tests; Questionnaires; Instructions           Stimulus   \n",
      "3                                 Cognitive Tests  StimulusComponent   \n",
      "4                                 Cognitive Tests              Click   \n",
      "5   Cognitive Tests; Questionnaires; Instructions             Option   \n",
      "6                                 Cognitive Tests    OptionComponent   \n",
      "7                           Controlled Vocabulary         Vocabulary   \n",
      "8                           Controlled Vocabulary         Vocabulary   \n",
      "9                           Controlled Vocabulary         Vocabulary   \n",
      "10                          Controlled Vocabulary         Vocabulary   \n",
      "11                          Controlled Vocabulary         Vocabulary   \n",
      "12                          Controlled Vocabulary         Vocabulary   \n",
      "\n",
      "                      title                                        description  \n",
      "0          Instrument Table  This table contains information describing the...  \n",
      "1               Trial Table  Main table where each row describes a response...  \n",
      "2            Stimulus Table  Table describing each of the stimuli that were...  \n",
      "3   StimulusComponent Table  Stimuli can comprise multiple components. This...  \n",
      "4               Click Table  Table describing each click that was recorded ...  \n",
      "5              Option Table  Table describing each option that a subject co...  \n",
      "6     OptionComponent Table  Options can comprise multiple components. This...  \n",
      "7                   General                                                NaN  \n",
      "8              Demographics                                                NaN  \n",
      "9          Generic Suffixes  Variables may describe a feature or property o...  \n",
      "10     Aggregation Suffixes  We will use the following names as suffixes to...  \n",
      "11  Transformation Suffixes  In general, use the function name that was use...  \n",
      "12     Referencing Suffixes  Several variables are used to filter, identify...  \n"
     ]
    }
   ],
   "source": [
    "tables_df = get_sheet(TRIAL_SPEC_SHEET_ID, 'Tables')\n",
    "print(tables_df)\n",
    "tables_df['category'] = tables_df['category'].str.split('; ')\n",
    "tables_df = tables_df.explode('category').reset_index(drop=True)\n",
    "_ = tables_df.apply(\n",
    "    lambda row: sheet_to_qmd(row, root_dir=OUTPUT_DIR), axis=1)\n",
    "# page\n",
    "    # name (data_type)\n",
    "    # description\n",
    "    # index_scope\n",
    "    # enum_values\n",
    "    # notes"
   ]
  }
 ],
 "metadata": {
  "kernelspec": {
   "display_name": "playground",
   "language": "python",
   "name": "python3"
  },
  "language_info": {
   "codemirror_mode": {
    "name": "ipython",
    "version": 3
   },
   "file_extension": ".py",
   "mimetype": "text/x-python",
   "name": "python",
   "nbconvert_exporter": "python",
   "pygments_lexer": "ipython3",
   "version": "3.13.0"
  }
 },
 "nbformat": 4,
 "nbformat_minor": 2
}
