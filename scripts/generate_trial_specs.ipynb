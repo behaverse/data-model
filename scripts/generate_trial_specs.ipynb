{
 "cells": [
  {
   "cell_type": "markdown",
   "metadata": {
    "vscode": {
     "languageId": "plaintext"
    }
   },
   "source": [
    "This notebook fetches BDM Trial specs from the Google Sheet and then generates documentations in quarto markdown format.\n",
    "\n",
    "The generated markdown files are saved in the `spec/auto-generated` folder."
   ]
  },
  {
   "cell_type": "code",
   "execution_count": null,
   "metadata": {},
   "outputs": [],
   "source": [
    "# Setup\n",
    "import pandas as pd\n",
    "from pathlib import Path\n",
    "\n",
    "\n",
    "# Constants\n",
    "OUTPUT_DIR = Path('spec/auto-generated/')  # where to write the generated files\n",
    "\n",
    "# Helpers\n",
    "\n",
    "def get_sheet(sheet_id: str, table_name: str):\n",
    "    \"\"\"Download a Google Sheets table as a pandas DataFrame.\"\"\"\n",
    "    url = ('https://docs.google.com/spreadsheets/d/'\n",
    "           '{sheet_id}/gviz/tq?tqx=out:csv&sheet={table_name}')\n",
    "    url = url.format(sheet_id=sheet_id, table_name=table_name)\n",
    "    data = pd.read_csv(url)\n",
    "    return data\n",
    "\n",
    "\n",
    "def create_file(table_info: pd.Series, root_dir):\n",
    "    \"\"\"Write a pandas DataFrame to a CSV file.\"\"\"\n",
    "    category = table_info['category'].replace(' ', '_').lower()\n",
    "    file_name = table_info['table_name'].replace(' ', '_').lower() + '.qmd'\n",
    "    output_path = root_dir / category / file_name\n",
    "    output_path.parent.mkdir(parents=True, exist_ok=True)\n",
    "    return output_path"
   ]
  },
  {
   "cell_type": "code",
   "execution_count": 23,
   "metadata": {},
   "outputs": [],
   "source": [
    "\n",
    "TRIAL_SPEC_SHEET_ID = '1yF34tvpxHtyNfVvXMdUXIVyS1UkDW7Bc6IaonI-I2vQ'\n",
    "tables_df = get_sheet(TRIAL_SPEC_SHEET_ID, 'Tables')\n",
    "tables_df['category'] = tables_df['category'].str.split('; ')\n",
    "tables_df = tables_df.explode('category').reset_index(drop=True)\n",
    "files = tables_df.apply(lambda row: create_file(row, root_dir=OUTPUT_DIR), axis=1)\n",
    "\n",
    "# page\n",
    "    # name (data_type)\n",
    "    # description\n",
    "    # index_scope\n",
    "    # enum_values\n",
    "    # notes"
   ]
  }
 ],
 "metadata": {
  "kernelspec": {
   "display_name": "playground",
   "language": "python",
   "name": "python3"
  },
  "language_info": {
   "codemirror_mode": {
    "name": "ipython",
    "version": 3
   },
   "file_extension": ".py",
   "mimetype": "text/x-python",
   "name": "python",
   "nbconvert_exporter": "python",
   "pygments_lexer": "ipython3",
   "version": "3.13.0"
  }
 },
 "nbformat": 4,
 "nbformat_minor": 2
}
