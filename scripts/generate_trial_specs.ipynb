{
 "cells": [
  {
   "cell_type": "markdown",
   "metadata": {
    "vscode": {
     "languageId": "plaintext"
    }
   },
   "source": [
    "This notebook fetches BDM Trial specs from the Google Sheet and then generates documentations in quarto markdown format.\n",
    "\n",
    "The generated markdown files are saved in the `spec/auto-generated` folder."
   ]
  },
  {
   "cell_type": "code",
   "execution_count": null,
   "metadata": {},
   "outputs": [],
   "source": [
    "# Setup\n",
    "import pandas as pd\n",
    "\n",
    "\n",
    "# Constants\n",
    "OUTPUT_DIR = 'spec/auto-generated/'  # where to write the generated files\n",
    "\n",
    "# Helpers\n",
    "\n",
    "def get_sheet(sheet_id: str, table_name: str):\n",
    "    \"\"\"Download a Google Sheets table as a pandas DataFrame.\"\"\"\n",
    "    url = ('https://docs.google.com/spreadsheets/d/'\n",
    "           '{sheet_id}/gviz/tq?tqx=out:csv&sheet={table_name}')\n",
    "    url = url.format(sheet_id=sheet_id, table_name=table_name)\n",
    "    data = pd.read_csv(url)\n",
    "    return data"
   ]
  },
  {
   "cell_type": "code",
   "execution_count": null,
   "metadata": {},
   "outputs": [
    {
     "data": {
      "text/plain": [
       "0           category                  variable_name ...\n",
       "1           category                  variable_name ...\n",
       "2           category                  variable_name ...\n",
       "3        category    variable_name data_type  data_s...\n",
       "4        category    variable_name data_type  data_s...\n",
       "5        category    variable_name data_type  data_s...\n",
       "6         id  table category  variable_name data_typ...\n",
       "7        category           variable_name data_type ...\n",
       "8         id  table category             name data_t...\n",
       "9         id  table category             name data_t...\n",
       "10        id  table category             name data_t...\n",
       "11        id  table category           name data_typ...\n",
       "12       id  table category     name data_type  data...\n",
       "13       id  table  category           name data_typ...\n",
       "14       id  table      category        name data_ty...\n",
       "15       id  table  category         name data_type ...\n",
       "16        category       name data_type  data_subtyp...\n",
       "17       id  table  category   name  data_type  data...\n",
       "18       id  table  category          name data_type...\n",
       "Name: table_name, dtype: object"
      ]
     },
     "execution_count": 25,
     "metadata": {},
     "output_type": "execute_result"
    }
   ],
   "source": [
    "\n",
    "TRIAL_SPEC_SHEET_ID = '1yF34tvpxHtyNfVvXMdUXIVyS1UkDW7Bc6IaonI-I2vQ'\n",
    "tables_df = get_sheet(TRIAL_SPEC_SHEET_ID, 'Tables')\n",
    "tables_df['category'] = tables_df['category'].str.split('; ')\n",
    "tables_df = tables_df.explode('category').reset_index(drop=True)\n",
    "\n",
    "# page\n",
    "    # name (data_type)\n",
    "    # description\n",
    "    # index_scope\n",
    "    # enum_values\n",
    "    # notes"
   ]
  }
 ],
 "metadata": {
  "kernelspec": {
   "display_name": "playground",
   "language": "python",
   "name": "python3"
  },
  "language_info": {
   "codemirror_mode": {
    "name": "ipython",
    "version": 3
   },
   "file_extension": ".py",
   "mimetype": "text/x-python",
   "name": "python",
   "nbconvert_exporter": "python",
   "pygments_lexer": "ipython3",
   "version": "3.13.0"
  }
 },
 "nbformat": 4,
 "nbformat_minor": 2
}
